{
 "cells": [
  {
   "cell_type": "code",
   "execution_count": 96,
   "id": "2ea25b4a",
   "metadata": {},
   "outputs": [],
   "source": [
    "# import library\n",
    " \n",
    "from bs4 import BeautifulSoup\n",
    "import requests\n",
    "import smtplib\n",
    "import time\n",
    "import datetime"
   ]
  },
  {
   "cell_type": "code",
   "execution_count": 97,
   "id": "25854334",
   "metadata": {},
   "outputs": [
    {
     "name": "stdout",
     "output_type": "stream",
     "text": [
      "FLAIR Pastel 5 Shades Hi-lighter Pouch Pack | Flexible Line Width | Quick Drying & Smudge Proof Pastel Ink | Non-Toxic Ink, Safe For Childrens | 5 Smoothing Colors, Pack of 1\n",
      "₹125.00\n"
     ]
    }
   ],
   "source": [
    "\n",
    "\n",
    "# URL and headers\n",
    "URL = 'https://www.amazon.in/FLAIR-Hi-lighter-Non-Toxic-Childrens-Smoothing/dp/B0C7NTPCWQ/ref=sr_1_9?crid=HBTM0MDD0QZA&dib=eyJ2IjoiMSJ9.qV7cc8iUP97pHFYhCqK80YEKV6tPlA6ga8-h_EALYjYSi5NXhDzQ-H1bK5TmT8k40IiNIHz3xwJrOPmDIBEE02NGezPEuxBECNuf3uZPDKEG7qCYO3DbXoqxfwROokyq18eo2dRQ18GOa_DdOdA-CIljToAfb-gvyPsmhfEZTOXASJKWLljmb8S8v2V_R0yl6UzK6UqkZLpJWQ-UJr_73yPzBxCXBKAYRY4uIEPpjYm3YtTag2HZGmjQGgrM0sjqDssP6I3n2MJqvvr2SorneduZjQVMuXDvq17uDuojodc.ukwWkXkr1H35q0CWI8BB_09HRnUar4pW2HqCIneedjQ&dib_tag=se&keywords=stationery+items&qid=1717928240&sprefix=stat%2Caps%2C281&sr=8-9'\n",
    "headers = {\"User-Agent\": \"Mozilla/5.0 (Windows NT 10.0; Win64; x64) AppleWebKit/537.36 (KHTML, like Gecko) Chrome/125.0.0.0 Safari/537.36\"}\n",
    "\n",
    "# Send the request\n",
    "page = requests.get(URL, headers=headers)\n",
    "\n",
    "# Parse the page content\n",
    "soup1 = BeautifulSoup(page.content, \"html.parser\")\n",
    "soup2 = BeautifulSoup(soup1.prettify(), \"html.parser\")\n",
    "\n",
    "# Extract the title\n",
    "title_element = soup2.find(id='productTitle')\n",
    "if title_element:\n",
    "    title = title_element.get_text().strip()\n",
    "    print(title)\n",
    "else:\n",
    "    print(\"Title element not found.\")\n",
    "\n",
    "# Extract the price\n",
    "price_symbol = soup2.find(class_='a-price-symbol')\n",
    "price_whole = soup2.find(class_='a-price-whole')\n",
    "price_fraction = soup2.find(class_='a-price-fraction')\n",
    "\n",
    "if price_symbol and price_whole and price_fraction:\n",
    "    price = f'{price_symbol.get_text(strip=True)}{price_whole.get_text(strip=True)}{price_fraction.get_text(strip=True)}'\n",
    "    print(price)\n",
    "else:\n",
    "    print(\"Price elements not found.\")\n",
    "\n",
    "\n"
   ]
  },
  {
   "cell_type": "code",
   "execution_count": 98,
   "id": "b6dfeeb2",
   "metadata": {},
   "outputs": [
    {
     "name": "stdout",
     "output_type": "stream",
     "text": [
      "FLAIR Pastel 5 Shades Hi-lighter Pouch Pack | Flexible Line Width | Quick Drying & Smudge Proof Pastel Ink | Non-Toxic Ink, Safe For Childrens | 5 Smoothing Colors, Pack of 1\n",
      "125.00\n"
     ]
    }
   ],
   "source": [
    "title = title.strip()\n",
    "print(title)\n",
    "# Assuming price_text contains something like '₹125.00'\n",
    "price_text = '₹125.00'\n",
    "\n",
    "# Remove the currency symbol\n",
    "price_text = price_text.replace('₹', '')\n",
    "\n",
    "# Convert the cleaned text to a float\n",
    "price = float(price_text)\n",
    "\n",
    "# Format the price with two digits after the decimal point\n",
    "formatted_price = '{:.2f}'.format(price)\n",
    "\n",
    "print(formatted_price)  # Output: '125.00'\n"
   ]
  },
  {
   "cell_type": "code",
   "execution_count": 99,
   "id": "43f9123f",
   "metadata": {},
   "outputs": [
    {
     "name": "stdout",
     "output_type": "stream",
     "text": [
      "2024-06-09\n"
     ]
    }
   ],
   "source": [
    "# Create a Timestamp for your output to track when data was collected\n",
    "\n",
    "import datetime\n",
    "\n",
    "today = datetime.date.today()\n",
    "\n",
    "print(today)"
   ]
  },
  {
   "cell_type": "code",
   "execution_count": 100,
   "id": "4b39a143",
   "metadata": {},
   "outputs": [],
   "source": [
    "import csv\n",
    "\n",
    "header = ['Title', 'Price', 'Date']\n",
    "data = [title, price, today]\n",
    "type(data)\n",
    "\n",
    "with open('AmazonWebScraperDataset.csv', 'w', newline='', encoding='UTF8') as f:\n",
    "    writer = csv.writer(f)\n",
    "    writer.writerow(header)\n",
    "    writer.writerow(data)\n"
   ]
  },
  {
   "cell_type": "code",
   "execution_count": 101,
   "id": "5d25a5d2",
   "metadata": {},
   "outputs": [
    {
     "name": "stdout",
     "output_type": "stream",
     "text": [
      "                                               Title  Price        Date\n",
      "0  FLAIR Pastel 5 Shades Hi-lighter Pouch Pack | ...  125.0  2024-06-09\n"
     ]
    }
   ],
   "source": [
    "import pandas as pd\n",
    "\n",
    "df = pd.read_csv(r'C:\\Users\\RUSHIKESH\\AmazonWebScraperDataset.csv')\n",
    "\n",
    "print(df)"
   ]
  },
  {
   "cell_type": "code",
   "execution_count": 102,
   "id": "69850e47",
   "metadata": {},
   "outputs": [],
   "source": [
    "#Now we are appending data to the csv\n",
    "\n",
    "with open('AmazonWebScraperDataset.csv', 'a+', newline='', encoding='UTF8') as f:\n",
    "    writer = csv.writer(f)\n",
    "    writer.writerow(data)"
   ]
  },
  {
   "cell_type": "code",
   "execution_count": 103,
   "id": "70d641b3",
   "metadata": {},
   "outputs": [],
   "source": [
    "def check_price():\n",
    "    URL = 'https://www.amazon.in/FLAIR-Hi-lighter-Non-Toxic-Childrens-Smoothing/dp/B0C7NTPCWQ/ref=sr_1_9?crid=HBTM0MDD0QZA&dib=eyJ2IjoiMSJ9.qV7cc8iUP97pHFYhCqK80YEKV6tPlA6ga8-h_EALYjYSi5NXhDzQ-H1bK5TmT8k40IiNIHz3xwJrOPmDIBEE02NGezPEuxBECNuf3uZPDKEG7qCYO3DbXoqxfwROokyq18eo2dRQ18GOa_DdOdA-CIljToAfb-gvyPsmhfEZTOXASJKWLljmb8S8v2V_R0yl6UzK6UqkZLpJWQ-UJr_73yPzBxCXBKAYRY4uIEPpjYm3YtTag2HZGmjQGgrM0sjqDssP6I3n2MJqvvr2SorneduZjQVMuXDvq17uDuojodc.ukwWkXkr1H35q0CWI8BB_09HRnUar4pW2HqCIneedjQ&dib_tag=se&keywords=stationery+items&qid=1717928240&sprefix=stat%2Caps%2C281&sr=8-9'\n",
    "\n",
    "    headers = {\"User-Agent\": \"Mozilla/5.0 (Windows NT 10.0; Win64; x64) AppleWebKit/537.36 (KHTML, like Gecko) Chrome/125.0.0.0 Safari/537.36\"}\n",
    "\n",
    "    page = requests.get(URL, headers=headers)\n",
    "\n",
    "    soup1 = BeautifulSoup(page.content, \"html.parser\")\n",
    "\n",
    "    soup2 = BeautifulSoup(soup1.prettify(), \"html.parser\")\n",
    "\n",
    "    title_element = soup2.find(id='productTitle')\n",
    "    if title_element:\n",
    "        title = title_element.get_text().strip()\n",
    "        print(title)\n",
    "    else:\n",
    "        print(\"Title element not found.\")\n",
    "\n",
    "    \n",
    "    price_symbol = soup2.find(class_='a-price-symbol')\n",
    "    price_whole = soup2.find(class_='a-price-whole')\n",
    "    price_fraction = soup2.find(class_='a-price-fraction')\n",
    "    if price_symbol and price_whole and price_fraction:\n",
    "        price = f'{price_symbol.get_text(strip=True)}{price_whole.get_text(strip=True)}{price_fraction.get_text(strip=True)}'\n",
    "        print(price)\n",
    "    else:\n",
    "        print(\"Price elements not found.\")\n",
    "    \n",
    "    title = title.strip()\n",
    "    price_text = '₹125.00'\n",
    "    price_text = price_text.replace('₹', '')\n",
    "    price = float(price_text)\n",
    "    formatted_price = '{:.2f}'.format(price)\n",
    "    \n",
    "    import datetime\n",
    "    today = datetime.date.today()\n",
    "    \n",
    "    import csv\n",
    "    header = ['Title', 'Price', 'Date']\n",
    "    data = [title, price, today]\n",
    "    \n",
    "    with open('AmazonWebScraperDataset.csv', 'a+', newline='', encoding='UTF8') as f:\n",
    "        writer = csv.writer(f)\n",
    "        writer.writerow(data)\n"
   ]
  },
  {
   "cell_type": "code",
   "execution_count": 104,
   "id": "929a7784",
   "metadata": {},
   "outputs": [
    {
     "name": "stdout",
     "output_type": "stream",
     "text": [
      "Title element not found.\n",
      "Price elements not found.\n"
     ]
    },
    {
     "ename": "UnboundLocalError",
     "evalue": "cannot access local variable 'title' where it is not associated with a value",
     "output_type": "error",
     "traceback": [
      "\u001b[1;31m---------------------------------------------------------------------------\u001b[0m",
      "\u001b[1;31mUnboundLocalError\u001b[0m                         Traceback (most recent call last)",
      "Cell \u001b[1;32mIn[104], line 4\u001b[0m\n\u001b[0;32m      1\u001b[0m \u001b[38;5;66;03m# Runs check_price after a set time and inputs data into your CSV\u001b[39;00m\n\u001b[0;32m      3\u001b[0m \u001b[38;5;28;01mwhile\u001b[39;00m(\u001b[38;5;28;01mTrue\u001b[39;00m):\n\u001b[1;32m----> 4\u001b[0m     check_price()\n\u001b[0;32m      5\u001b[0m     time\u001b[38;5;241m.\u001b[39msleep(\u001b[38;5;241m4\u001b[39m)\n",
      "Cell \u001b[1;32mIn[103], line 29\u001b[0m, in \u001b[0;36mcheck_price\u001b[1;34m()\u001b[0m\n\u001b[0;32m     26\u001b[0m \u001b[38;5;28;01melse\u001b[39;00m:\n\u001b[0;32m     27\u001b[0m     \u001b[38;5;28mprint\u001b[39m(\u001b[38;5;124m\"\u001b[39m\u001b[38;5;124mPrice elements not found.\u001b[39m\u001b[38;5;124m\"\u001b[39m)\n\u001b[1;32m---> 29\u001b[0m title \u001b[38;5;241m=\u001b[39m title\u001b[38;5;241m.\u001b[39mstrip()\n\u001b[0;32m     30\u001b[0m price_text \u001b[38;5;241m=\u001b[39m \u001b[38;5;124m'\u001b[39m\u001b[38;5;124m₹125.00\u001b[39m\u001b[38;5;124m'\u001b[39m\n\u001b[0;32m     31\u001b[0m price_text \u001b[38;5;241m=\u001b[39m price_text\u001b[38;5;241m.\u001b[39mreplace(\u001b[38;5;124m'\u001b[39m\u001b[38;5;124m₹\u001b[39m\u001b[38;5;124m'\u001b[39m, \u001b[38;5;124m'\u001b[39m\u001b[38;5;124m'\u001b[39m)\n",
      "\u001b[1;31mUnboundLocalError\u001b[0m: cannot access local variable 'title' where it is not associated with a value"
     ]
    }
   ],
   "source": [
    "# Runs check_price after a set time and inputs data into your CSV\n",
    "\n",
    "while(True):\n",
    "    check_price()\n",
    "    time.sleep(4)"
   ]
  },
  {
   "cell_type": "code",
   "execution_count": 105,
   "id": "03544c0f",
   "metadata": {},
   "outputs": [
    {
     "name": "stdout",
     "output_type": "stream",
     "text": [
      "                                               Title  Price        Date\n",
      "0  FLAIR Pastel 5 Shades Hi-lighter Pouch Pack | ...  125.0  2024-06-09\n",
      "1  FLAIR Pastel 5 Shades Hi-lighter Pouch Pack | ...  125.0  2024-06-09\n"
     ]
    }
   ],
   "source": [
    "import pandas as pd\n",
    "\n",
    "df = pd.read_csv(r'C:\\Users\\RUSHIKESH\\AmazonWebScraperDataset.csv')\n",
    "\n",
    "print(df)"
   ]
  },
  {
   "cell_type": "code",
   "execution_count": null,
   "id": "4b449cb8",
   "metadata": {},
   "outputs": [],
   "source": []
  }
 ],
 "metadata": {
  "kernelspec": {
   "display_name": "Python 3 (ipykernel)",
   "language": "python",
   "name": "python3"
  },
  "language_info": {
   "codemirror_mode": {
    "name": "ipython",
    "version": 3
   },
   "file_extension": ".py",
   "mimetype": "text/x-python",
   "name": "python",
   "nbconvert_exporter": "python",
   "pygments_lexer": "ipython3",
   "version": "3.11.4"
  }
 },
 "nbformat": 4,
 "nbformat_minor": 5
}
